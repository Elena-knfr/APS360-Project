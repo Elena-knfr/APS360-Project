{
  "cells": [
    {
      "cell_type": "markdown",
      "metadata": {
        "id": "Qmug_KR5w0jT"
      },
      "source": [
        "# **RNN for Music Generation**\n",
        "\n",
        "This files uses an RNN with LSTM to generate music given a dataset with tunes matching a particular emotion."
      ]
    },
    {
      "cell_type": "markdown",
      "metadata": {
        "id": "hdDGqewa4wLz"
      },
      "source": [
        "## **General Imports**\n",
        "\n",
        "Imports needed for the code below"
      ]
    },
    {
      "cell_type": "code",
      "execution_count": 1,
      "metadata": {
        "colab": {
          "base_uri": "https://localhost:8080/"
        },
        "id": "HEKKXZF2GVoJ",
        "outputId": "4b2a8655-772b-40df-f7f1-856ccd80c124"
      },
      "outputs": [
        {
          "output_type": "stream",
          "name": "stdout",
          "text": [
            "Reading package lists... Done\n",
            "Building dependency tree       \n",
            "Reading state information... Done\n",
            "lilypond is already the newest version (2.20.0-1).\n",
            "0 upgraded, 0 newly installed, 0 to remove and 23 not upgraded.\n"
          ]
        }
      ],
      "source": [
        "!apt-get install -y lilypond"
      ]
    },
    {
      "cell_type": "code",
      "execution_count": 2,
      "metadata": {
        "id": "u8jwHeXn197q"
      },
      "outputs": [],
      "source": [
        "import numpy as np\n",
        "import time\n",
        "import torch\n",
        "import torch.nn as nn\n",
        "import torch.nn.functional as F\n",
        "import torch.optim as optim\n",
        "import torchvision\n",
        "import torchvision.transforms as transforms\n",
        "import matplotlib.pyplot as plt\n",
        "import os\n",
        "import music21\n",
        "import math\n",
        "from music21 import * \n",
        "\n",
        "from torch.utils.data.sampler import SubsetRandomSampler\n",
        "from google.colab import drive\n",
        "from inspect import modulesbyfile\n",
        "from collections import Counter\n",
        "from IPython.display import Image, Audio\n",
        "from sklearn.model_selection import train_test_split\n",
        "\n",
        "import pandas as pd \n",
        "import random\n",
        "import IPython\n",
        "import matplotlib.pyplot as plt \n",
        "import seaborn as sns\n",
        "import matplotlib.pyplot as plt\n",
        "import matplotlib.patches as mpatches\n",
        "import sys\n",
        "import warnings"
      ]
    },
    {
      "cell_type": "markdown",
      "metadata": {
        "id": "TsMVb6t5yEQ1"
      },
      "source": [
        "## Data Processing\n",
        "\n",
        "This section goes over data preprocessing, which includes the following steps:\n",
        "\n",
        "\n",
        "*   Load .mid files for a particular emotion\n",
        "*   Extract notes from the .mid files \n",
        "*   Map notes to an index and vice versa \n",
        "*   One-hot-encode outputs\n",
        "*   Generate training and validation datasets\n",
        "\n",
        "Some processing code from: https://www.kaggle.com/code/karnikakapoor/music-generation-lstm/notebook\n",
        "\n"
      ]
    },
    {
      "cell_type": "markdown",
      "metadata": {
        "id": "korrFDWD47Ku"
      },
      "source": [
        "### **Mount to Drive**\n",
        "\n",
        "Connect to Google Drive where all of the training and validation data is stored"
      ]
    },
    {
      "cell_type": "code",
      "execution_count": 3,
      "metadata": {
        "colab": {
          "base_uri": "https://localhost:8080/"
        },
        "id": "_jPXhMDt2blP",
        "outputId": "b7a46bf6-8270-4281-973f-a617c02ed261"
      },
      "outputs": [
        {
          "output_type": "stream",
          "name": "stdout",
          "text": [
            "Drive already mounted at /content/gdrive; to attempt to forcibly remount, call drive.mount(\"/content/gdrive\", force_remount=True).\n"
          ]
        }
      ],
      "source": [
        "# Data is stored on drive, mount personal drive to be able to access it \n",
        "drive.mount('/content/gdrive')"
      ]
    },
    {
      "cell_type": "markdown",
      "metadata": {
        "id": "d-BVSmeW50cB"
      },
      "source": [
        "### **Import .mid files from drive**\n",
        "\n",
        "Import the .mid files for a given emotion. Repeat the process for all emotions."
      ]
    },
    {
      "cell_type": "code",
      "execution_count": 4,
      "metadata": {
        "id": "nJtqZ0RG5mXZ"
      },
      "outputs": [],
      "source": [
        "# Load all the midi files for the given emotion\n",
        "def load_midis(filepath):\n",
        "\n",
        "    # Open .mid files and add to array\n",
        "    midis = []\n",
        "    for i in os.listdir(filepath):\n",
        "        if i.endswith(\".mid\"):\n",
        "            tr = filepath+i\n",
        "            midi = converter.parse(tr)\n",
        "            midis.append(midi)\n",
        "    return midis"
      ]
    },
    {
      "cell_type": "code",
      "execution_count": 5,
      "metadata": {
        "id": "J3dLef36j5v8"
      },
      "outputs": [],
      "source": [
        "# Load files from both validation and training set for a given emotion \n",
        "def load_sets(emotion):\n",
        "    filepath = \"/content/gdrive/MyDrive/RNN Training/{0}/\".format(emotion)\n",
        "    training_midis = load_midis(filepath)\n",
        "\n",
        "    filepath = \"/content/gdrive/MyDrive/RNN Validation/{0}/\".format(emotion)\n",
        "    validation_midis = load_midis(filepath)\n",
        "\n",
        "    return training_midis + validation_midis\n",
        "\n",
        "angry_midis = load_sets(\"Angry\")"
      ]
    },
    {
      "cell_type": "markdown",
      "metadata": {
        "id": "NsePkoEX8zzX"
      },
      "source": [
        "### **Extract the notes from the midi files**"
      ]
    },
    {
      "cell_type": "code",
      "execution_count": 6,
      "metadata": {
        "id": "jf-mqUMC78A-"
      },
      "outputs": [],
      "source": [
        "# Extract notes from the stream of midi files\n",
        "def extract_notes(all_midis):\n",
        "    notes = []\n",
        "    notes_to_parse = None\n",
        "\n",
        "    # Iterate through all the midi files in the given array \n",
        "    for tune in all_midis:\n",
        "        # Separate the tune into different instrument parts \n",
        "        tune_instrument = instrument.partitionByInstrument(tune)\n",
        "        for part in tune_instrument.parts:\n",
        "            if 'Piano' in str(part):\n",
        "                # Break the part from tune_instrument into elements \n",
        "                notes_to_parse = part.recurse()\n",
        "                for element in notes_to_parse:\n",
        "                    # If the element is a note, then add it to the list, but if element is a chord, then convert chord into individual notes\n",
        "                    if isinstance(element, note.Note):\n",
        "                        notes.append(str(element.pitch))\n",
        "                    elif isinstance(element, chord.Chord):\n",
        "                        notes.append(\".\".join(str(n) for n in element.normalOrder))\n",
        "    return notes\n",
        "\n",
        "# Remove any notes that do not occur too frequently - this is to reduce training time and focus on key notes \n",
        "def generate_mappings(notes):\n",
        "    # Determine all the unique notes and their frequence\n",
        "    unique_notes = list(set(notes))\n",
        "    freq = dict(map(lambda x: (x, notes.count(x)), unique_notes))\n",
        "\n",
        "    #dictionary having key as note index and value as note\n",
        "    index_to_note_mapping = dict(enumerate(freq))\n",
        "    \n",
        "    #dictionary having key as note and value as note index\n",
        "    note_to_index_mapping = dict(map(reversed, index_to_note_mapping.items()))\n",
        "    \n",
        "    return index_to_note_mapping, note_to_index_mapping"
      ]
    },
    {
      "cell_type": "markdown",
      "metadata": {
        "id": "7jARxWXiBlEi"
      },
      "source": [
        "### **Map notes to an index and vice versa and split data into batches**"
      ]
    },
    {
      "cell_type": "code",
      "execution_count": 7,
      "metadata": {
        "id": "LRAubbjj_hCc"
      },
      "outputs": [],
      "source": [
        "notes = extract_notes(angry_midis)\n",
        "notes = notes[0:1000]"
      ]
    },
    {
      "cell_type": "code",
      "source": [
        "index_to_note, note_to_index = generate_mappings(notes)\n",
        "unique_notes = list(set(notes))\n",
        "length_unique_notes = len(unique_notes)\n",
        "\n",
        "print(f\"Total Notes: {len(notes)}\")\n",
        "print(f\"Unique Notes: {length_unique_notes}\")"
      ],
      "metadata": {
        "id": "qwi_fOiNaHmQ",
        "colab": {
          "base_uri": "https://localhost:8080/"
        },
        "outputId": "f42b93e7-1f15-4d1b-af58-be6add57621f"
      },
      "execution_count": 8,
      "outputs": [
        {
          "output_type": "stream",
          "name": "stdout",
          "text": [
            "Total Notes: 1000\n",
            "Unique Notes: 411\n"
          ]
        }
      ]
    },
    {
      "cell_type": "code",
      "execution_count": 9,
      "metadata": {
        "id": "YY9VrL_pFj9N"
      },
      "outputs": [],
      "source": [
        "# Use a window size of 16\n",
        "# Given 16 input values, the model should be able to predict the 17th value (this is the target)\n",
        "length = 16\n",
        "features = []\n",
        "targets = []\n",
        "\n",
        "length_number_notes = len(notes)\n",
        "num_notes = (length * math.floor(length_number_notes / length))\n",
        "\n",
        "count = 0\n",
        "for i in range(0, num_notes - length, 1):\n",
        "    feature = notes[i:i + length]\n",
        "    target = notes[i + length]\n",
        "\n",
        "    features.append([note_to_index[j] for j in feature])\n",
        "    targets.append(note_to_index[target])"
      ]
    },
    {
      "cell_type": "code",
      "source": [
        "inputs = torch.tensor(features, dtype=torch.float32).reshape(len(features), length, 1)\n",
        "inputs = inputs / float(length_unique_notes)\n",
        "outputs = torch.tensor(targets)"
      ],
      "metadata": {
        "id": "FB0L1PvwsDb9"
      },
      "execution_count": 10,
      "outputs": []
    },
    {
      "cell_type": "markdown",
      "metadata": {
        "id": "wgDoeN-0BocW"
      },
      "source": [
        "## **Model**\n",
        "\n",
        "RNN model with LSTM from lecture"
      ]
    },
    {
      "cell_type": "code",
      "execution_count": 11,
      "metadata": {
        "id": "EWtH2tCZI5Hy"
      },
      "outputs": [],
      "source": [
        "class MusicRNN(nn.Module):\n",
        "    def __init__(self):\n",
        "        super(MusicRNN, self).__init__()\n",
        "        self.name = \"Tune\"\n",
        "        self.lstm = nn.LSTM(input_size=1, hidden_size=256, num_layers=1, batch_first=True)\n",
        "        self.dropout = nn.Dropout(0.2)\n",
        "        self.linear = nn.Linear(256, length_unique_notes)\n",
        "    def forward(self, x):\n",
        "        x, _ = self.lstm(x)\n",
        "        # take only the last output\n",
        "        x = x[:, -1, :]\n",
        "        # produce output\n",
        "        x = self.linear(self.dropout(x))\n",
        "        return x"
      ]
    },
    {
      "cell_type": "markdown",
      "metadata": {
        "id": "_e7xZ_BHMJRV"
      },
      "source": [
        "## **Training**\n",
        "\n"
      ]
    },
    {
      "cell_type": "code",
      "execution_count": 41,
      "metadata": {
        "id": "aMlmCSYTMYuc"
      },
      "outputs": [],
      "source": [
        "def get_model_name(name, batch_size, learning_rate, epoch, emotion):\n",
        "    path = \"model_{0}_bs{1}_lr{2}_epoch{3}_emotion{4}\".format(name, batch_size, learning_rate, epoch, emotion)\n",
        "    return path\n",
        "\n",
        "def train(model, emotion, train_loader, validation_loader, batch_size, num_epochs=5, \n",
        "          learning_rate=1e-3, plot=True):\n",
        "    \"\"\" Training loop. You should update this.\"\"\"\n",
        "    torch.manual_seed(42)\n",
        "    criterion = nn.CrossEntropyLoss()\n",
        "    optimizer = torch.optim.Adam(model.parameters(), lr=learning_rate)\n",
        "\n",
        "    iters, train_loss, validation_loss = [], [], []\n",
        "\n",
        "    for epoch in range(num_epochs):\n",
        "        # Train the model and append the train loss\n",
        "        for inputs, output in train_loader:\n",
        "            optimizer.zero_grad()\n",
        "            pred = model(inputs)\n",
        "            loss = criterion(pred, output)\n",
        "            loss.backward()\n",
        "            optimizer.step()\n",
        "        \n",
        "        train_loss.append(float(loss))\n",
        "        \n",
        "        # Compute validation loss\n",
        "        for inputs, output in validation_loader:\n",
        "            pred = model(inputs)\n",
        "            loss = criterion(pred, output)\n",
        "        validation_loss.append(float(loss))\n",
        "\n",
        "        # Display information\n",
        "        if plot:\n",
        "            print(  f'Epoch {epoch}: '\n",
        "                    f'\\tTrain Loss: {train_loss[epoch]}'\n",
        "                    f'\\t\\tValidation Loss: {validation_loss[epoch]} ')\n",
        "\n",
        "        # Save the current model (checkpoint) to a file\n",
        "        model_path = get_model_name(model.name, emotion, batch_size, learning_rate, epoch)\n",
        "        torch.save(model.state_dict(), model_path)\n",
        "        iters.append(epoch)\n",
        "\n",
        "    print(\"=======================================\")\n",
        "    print(\"Final Training Loss: {}\\n\".format(train_loss[-1]))   \n",
        "    print(\"Final Validation Loss: {}\\n\".format(train_loss[-1])) \n",
        "\n",
        "    #Plotting\n",
        "    if plot:\n",
        "        plt.title(\"Train vs. Validation Loss\")\n",
        "        plt.plot(iters, train_loss, label=\"Train\")\n",
        "        plt.plot(iters, validation_loss, label=\"Validation\")\n",
        "        plt.xlabel(\"Epochs\")\n",
        "        plt.ylabel(\"Loss\")\n",
        "        plt.legend(loc='best')\n",
        "        plt.show()"
      ]
    },
    {
      "cell_type": "code",
      "execution_count": 43,
      "metadata": {
        "id": "JjhXip0WsSMB",
        "colab": {
          "base_uri": "https://localhost:8080/",
          "height": 1000
        },
        "outputId": "bd383a6e-78bb-434b-afa3-ba59e6dc23f3"
      },
      "outputs": [
        {
          "output_type": "stream",
          "name": "stdout",
          "text": [
            "Epoch 0: \tTrain Loss: 5.908631801605225\t\tValidation Loss: 5.843544006347656 \n",
            "Epoch 1: \tTrain Loss: 6.014740467071533\t\tValidation Loss: 6.126805305480957 \n",
            "Epoch 2: \tTrain Loss: 5.472938537597656\t\tValidation Loss: 5.143319606781006 \n",
            "Epoch 3: \tTrain Loss: 5.5353007316589355\t\tValidation Loss: 6.769095420837402 \n",
            "Epoch 4: \tTrain Loss: 5.8365607261657715\t\tValidation Loss: 6.314128875732422 \n",
            "Epoch 5: \tTrain Loss: 5.91425895690918\t\tValidation Loss: 6.446130752563477 \n",
            "Epoch 6: \tTrain Loss: 5.683465480804443\t\tValidation Loss: 6.250282287597656 \n",
            "Epoch 7: \tTrain Loss: 5.642492771148682\t\tValidation Loss: 6.638897895812988 \n",
            "Epoch 8: \tTrain Loss: 5.455079555511475\t\tValidation Loss: 6.547704696655273 \n",
            "Epoch 9: \tTrain Loss: 5.457850933074951\t\tValidation Loss: 5.735180854797363 \n",
            "Epoch 10: \tTrain Loss: 5.685278415679932\t\tValidation Loss: 6.147919178009033 \n",
            "Epoch 11: \tTrain Loss: 5.4125142097473145\t\tValidation Loss: 7.78609561920166 \n",
            "Epoch 12: \tTrain Loss: 5.583117961883545\t\tValidation Loss: 4.374123573303223 \n",
            "Epoch 13: \tTrain Loss: 5.598846912384033\t\tValidation Loss: 5.693976402282715 \n",
            "Epoch 14: \tTrain Loss: 5.659542083740234\t\tValidation Loss: 6.280766487121582 \n",
            "Epoch 15: \tTrain Loss: 5.919315338134766\t\tValidation Loss: 4.90477180480957 \n",
            "Epoch 16: \tTrain Loss: 5.691519260406494\t\tValidation Loss: 5.589812278747559 \n",
            "Epoch 17: \tTrain Loss: 5.797657012939453\t\tValidation Loss: 5.70460319519043 \n",
            "Epoch 18: \tTrain Loss: 5.834041118621826\t\tValidation Loss: 5.853486061096191 \n",
            "Epoch 19: \tTrain Loss: 5.98136568069458\t\tValidation Loss: 5.196163177490234 \n",
            "Epoch 20: \tTrain Loss: 5.192446708679199\t\tValidation Loss: 7.767867088317871 \n",
            "Epoch 21: \tTrain Loss: 6.035035610198975\t\tValidation Loss: 8.342662811279297 \n",
            "Epoch 22: \tTrain Loss: 5.82623815536499\t\tValidation Loss: 6.023156642913818 \n",
            "Epoch 23: \tTrain Loss: 6.050159931182861\t\tValidation Loss: 8.443370819091797 \n",
            "Epoch 24: \tTrain Loss: 5.890940189361572\t\tValidation Loss: 4.913678169250488 \n",
            "Epoch 25: \tTrain Loss: 5.846200466156006\t\tValidation Loss: 6.939883232116699 \n",
            "Epoch 26: \tTrain Loss: 5.411373138427734\t\tValidation Loss: 5.399456024169922 \n",
            "Epoch 27: \tTrain Loss: 5.727081298828125\t\tValidation Loss: 5.832848072052002 \n",
            "Epoch 28: \tTrain Loss: 5.365281581878662\t\tValidation Loss: 7.004034996032715 \n",
            "Epoch 29: \tTrain Loss: 5.5795979499816895\t\tValidation Loss: 7.877644062042236 \n",
            "Epoch 30: \tTrain Loss: 5.528212070465088\t\tValidation Loss: 8.136643409729004 \n",
            "Epoch 31: \tTrain Loss: 5.467050075531006\t\tValidation Loss: 6.800811290740967 \n",
            "Epoch 32: \tTrain Loss: 5.715363025665283\t\tValidation Loss: 8.61424446105957 \n",
            "Epoch 33: \tTrain Loss: 5.702754974365234\t\tValidation Loss: 6.543098449707031 \n",
            "Epoch 34: \tTrain Loss: 5.599163055419922\t\tValidation Loss: 7.795287132263184 \n",
            "Epoch 35: \tTrain Loss: 5.605005741119385\t\tValidation Loss: 8.325577735900879 \n",
            "Epoch 36: \tTrain Loss: 5.43676233291626\t\tValidation Loss: 7.870980262756348 \n",
            "Epoch 37: \tTrain Loss: 5.7525248527526855\t\tValidation Loss: 6.894664764404297 \n",
            "Epoch 38: \tTrain Loss: 5.407853603363037\t\tValidation Loss: 6.437662601470947 \n",
            "Epoch 39: \tTrain Loss: 4.986663341522217\t\tValidation Loss: 9.99009895324707 \n",
            "Epoch 40: \tTrain Loss: 5.326644420623779\t\tValidation Loss: 6.680478096008301 \n",
            "Epoch 41: \tTrain Loss: 5.262524604797363\t\tValidation Loss: 5.810819149017334 \n",
            "Epoch 42: \tTrain Loss: 5.201149940490723\t\tValidation Loss: 5.259066581726074 \n",
            "Epoch 43: \tTrain Loss: 5.077541351318359\t\tValidation Loss: 7.276325225830078 \n",
            "Epoch 44: \tTrain Loss: 4.643118858337402\t\tValidation Loss: 9.503271102905273 \n",
            "Epoch 45: \tTrain Loss: 5.299656391143799\t\tValidation Loss: 4.12211799621582 \n",
            "Epoch 46: \tTrain Loss: 4.953945159912109\t\tValidation Loss: 8.457183837890625 \n",
            "Epoch 47: \tTrain Loss: 4.550390243530273\t\tValidation Loss: 7.174079895019531 \n",
            "Epoch 48: \tTrain Loss: 4.610429286956787\t\tValidation Loss: 9.881994247436523 \n",
            "Epoch 49: \tTrain Loss: 4.4476494789123535\t\tValidation Loss: 8.041815757751465 \n",
            "Epoch 50: \tTrain Loss: 4.343174457550049\t\tValidation Loss: 9.600631713867188 \n",
            "Epoch 51: \tTrain Loss: 4.047867774963379\t\tValidation Loss: 7.280331611633301 \n",
            "Epoch 52: \tTrain Loss: 3.811990737915039\t\tValidation Loss: 6.137747764587402 \n",
            "Epoch 53: \tTrain Loss: 3.527086019515991\t\tValidation Loss: 6.587357044219971 \n",
            "Epoch 54: \tTrain Loss: 3.3568973541259766\t\tValidation Loss: 6.650348663330078 \n",
            "Epoch 55: \tTrain Loss: 2.883319616317749\t\tValidation Loss: 8.314619064331055 \n",
            "Epoch 56: \tTrain Loss: 4.011172294616699\t\tValidation Loss: 7.02645206451416 \n",
            "Epoch 57: \tTrain Loss: 2.7648532390594482\t\tValidation Loss: 8.08953857421875 \n",
            "Epoch 58: \tTrain Loss: 2.3998396396636963\t\tValidation Loss: 8.381393432617188 \n",
            "Epoch 59: \tTrain Loss: 2.9605443477630615\t\tValidation Loss: 9.719533920288086 \n",
            "Epoch 60: \tTrain Loss: 1.9761978387832642\t\tValidation Loss: 9.813080787658691 \n",
            "Epoch 61: \tTrain Loss: 1.6941369771957397\t\tValidation Loss: 5.162275314331055 \n",
            "Epoch 62: \tTrain Loss: 2.2228355407714844\t\tValidation Loss: 9.123184204101562 \n",
            "Epoch 63: \tTrain Loss: 1.9424761533737183\t\tValidation Loss: 12.274651527404785 \n",
            "Epoch 64: \tTrain Loss: 2.050187826156616\t\tValidation Loss: 6.417959690093994 \n",
            "Epoch 65: \tTrain Loss: 1.4302319288253784\t\tValidation Loss: 10.083577156066895 \n",
            "Epoch 66: \tTrain Loss: 1.4973019361495972\t\tValidation Loss: 8.500487327575684 \n",
            "Epoch 67: \tTrain Loss: 1.0910913944244385\t\tValidation Loss: 7.520990371704102 \n",
            "Epoch 68: \tTrain Loss: 0.8970698714256287\t\tValidation Loss: 8.022228240966797 \n",
            "Epoch 69: \tTrain Loss: 0.9209535121917725\t\tValidation Loss: 9.441681861877441 \n",
            "Epoch 70: \tTrain Loss: 0.7084316611289978\t\tValidation Loss: 9.065455436706543 \n",
            "Epoch 71: \tTrain Loss: 0.8156406283378601\t\tValidation Loss: 11.77053165435791 \n",
            "Epoch 72: \tTrain Loss: 0.5998908281326294\t\tValidation Loss: 7.945385932922363 \n",
            "Epoch 73: \tTrain Loss: 0.5494235157966614\t\tValidation Loss: 11.443946838378906 \n",
            "Epoch 74: \tTrain Loss: 0.4794260561466217\t\tValidation Loss: 11.058363914489746 \n",
            "Epoch 75: \tTrain Loss: 0.4169907867908478\t\tValidation Loss: 12.741168975830078 \n",
            "Epoch 76: \tTrain Loss: 0.3824465572834015\t\tValidation Loss: 8.576140403747559 \n",
            "Epoch 77: \tTrain Loss: 0.46695947647094727\t\tValidation Loss: 10.318626403808594 \n",
            "Epoch 78: \tTrain Loss: 0.28015023469924927\t\tValidation Loss: 7.593076705932617 \n",
            "Epoch 79: \tTrain Loss: 0.315861314535141\t\tValidation Loss: 5.5393171310424805 \n",
            "Epoch 80: \tTrain Loss: 0.3955886662006378\t\tValidation Loss: 4.908310890197754 \n",
            "Epoch 81: \tTrain Loss: 0.26153019070625305\t\tValidation Loss: 12.612822532653809 \n",
            "Epoch 82: \tTrain Loss: 0.25680676102638245\t\tValidation Loss: 11.951471328735352 \n",
            "Epoch 83: \tTrain Loss: 0.25909486413002014\t\tValidation Loss: 11.474845886230469 \n",
            "Epoch 84: \tTrain Loss: 0.18902933597564697\t\tValidation Loss: 12.383848190307617 \n",
            "Epoch 85: \tTrain Loss: 0.2911669909954071\t\tValidation Loss: 11.523754119873047 \n",
            "Epoch 86: \tTrain Loss: 0.15494655072689056\t\tValidation Loss: 7.908079147338867 \n",
            "Epoch 87: \tTrain Loss: 0.14447586238384247\t\tValidation Loss: 12.853965759277344 \n",
            "Epoch 88: \tTrain Loss: 0.15097780525684357\t\tValidation Loss: 9.991044998168945 \n",
            "Epoch 89: \tTrain Loss: 0.12864258885383606\t\tValidation Loss: 12.548526763916016 \n",
            "Epoch 90: \tTrain Loss: 0.08954260498285294\t\tValidation Loss: 10.903985023498535 \n",
            "Epoch 91: \tTrain Loss: 0.13788919150829315\t\tValidation Loss: 9.386028289794922 \n",
            "Epoch 92: \tTrain Loss: 0.09405552595853806\t\tValidation Loss: 9.448892593383789 \n",
            "Epoch 93: \tTrain Loss: 0.09221336245536804\t\tValidation Loss: 13.555143356323242 \n",
            "Epoch 94: \tTrain Loss: 0.11823286861181259\t\tValidation Loss: 14.991111755371094 \n",
            "Epoch 95: \tTrain Loss: 0.07575616240501404\t\tValidation Loss: 9.050865173339844 \n",
            "Epoch 96: \tTrain Loss: 0.12898944318294525\t\tValidation Loss: 8.701883316040039 \n",
            "Epoch 97: \tTrain Loss: 0.06966231018304825\t\tValidation Loss: 10.426467895507812 \n",
            "Epoch 98: \tTrain Loss: 0.08367034792900085\t\tValidation Loss: 8.84434700012207 \n",
            "Epoch 99: \tTrain Loss: 0.06546016037464142\t\tValidation Loss: 9.475250244140625 \n",
            "=======================================\n",
            "Final Training Loss: 0.06546016037464142\n",
            "\n",
            "Final Validation Loss: 0.06546016037464142\n",
            "\n"
          ]
        },
        {
          "output_type": "display_data",
          "data": {
            "text/plain": [
              "<Figure size 432x288 with 1 Axes>"
            ],
            "image/png": "[encoded data removed]"
          },
          "metadata": {
            "image/png": {
              "width": 382,
              "height": 277
            },
            "needs_background": "light"
          }
        }
      ],
      "source": [
        "num_epochs = 100\n",
        "learning_rate = 0.001 \n",
        "batch_size = 32\n",
        "emotion = \"angry\"\n",
        "\n",
        "full_dataset = torch.utils.data.TensorDataset(inputs, outputs)\n",
        "train_size = int(0.8 * len(full_dataset))\n",
        "validation_size = len(full_dataset) - train_size\n",
        "\n",
        "train_dataset, validation_dataset = torch.utils.data.random_split(full_dataset, [train_size, validation_size])\n",
        "train_loader = torch.utils.data.DataLoader(train_dataset, shuffle=True, batch_size=32)\n",
        "validation_loader = torch.utils.data.DataLoader(validation_dataset, shuffle=True, batch_size=32)\n",
        "\n",
        "rnn_model = MusicRNN()\n",
        "train(rnn_model, emotion, train_loader, validation_loader, batch_size, num_epochs, learning_rate)"
      ]
    },
    {
      "cell_type": "code",
      "execution_count": 28,
      "metadata": {
        "id": "KBdCAfJ_C5LR",
        "colab": {
          "base_uri": "https://localhost:8080/",
          "height": 202
        },
        "outputId": "7d42d0a5-8041-43a5-b044-69aca6f08d9a"
      },
      "outputs": [
        {
          "output_type": "display_data",
          "data": {
            "image/png": "[encoded data removed]",
            "text/plain": [
              "<IPython.core.display.Image object>"
            ]
          },
          "metadata": {}
        },
        {
          "output_type": "execute_result",
          "data": {
            "text/plain": [
              "'Generated_Melody.mid'"
            ],
            "application/vnd.google.colaboratory.intrinsic+json": {
              "type": "string"
            }
          },
          "metadata": {},
          "execution_count": 28
        }
      ],
      "source": [
        "# Display the image of the generated music\n",
        "def show(music):\n",
        "    display(Image(str(music.write(\"lily.png\"))))\n",
        "\n",
        "# Conver the list of notes/chords back to music     \n",
        "def chords_n_notes(tune):\n",
        "    melody = []\n",
        "    offset = 0 \n",
        "    for i in tune:\n",
        "        # pattern is a chord then separate the chord into notes\n",
        "        if (\".\" in i or i.isdigit()):\n",
        "            chord_notes = i.split(\".\") \n",
        "            notes = [] \n",
        "            for j in chord_notes:\n",
        "                inst_note = int(j)\n",
        "                note_snip = note.Note(inst_note)            \n",
        "                notes.append(note_snip)\n",
        "                chord_snip = chord.Chord(notes)\n",
        "                chord_snip.offset = offset\n",
        "                melody.append(chord_snip)\n",
        "        # pattern is a note\n",
        "        else: \n",
        "            note_snip = note.Note(i)\n",
        "            note_snip.offset = offset\n",
        "            melody.append(note_snip)\n",
        "        # increase offset each iteration so that notes do not stack\n",
        "        offset += 1\n",
        "    melody_midi = stream.Stream(melody)   \n",
        "    return melody_midi\n",
        "\n",
        "# Primary model \n",
        "def melody_generator(note_count):\n",
        "    # Generate seed \n",
        "    seq_length = note_count\n",
        "    start = np.random.randint(0, len(notes) - seq_length)\n",
        "    prompt = notes[start:start + seq_length]\n",
        "    pattern = [note_to_index[c] for c in prompt]\n",
        "    \n",
        "    rnn_model.eval()\n",
        "    with torch.no_grad():\n",
        "        for i in range(1000):\n",
        "            # format input array of int into PyTorch tensor\n",
        "            x = np.reshape(pattern, (1, len(pattern), 1)) / float(length_unique_notes)\n",
        "            x = torch.tensor(x, dtype=torch.float32)\n",
        "            \n",
        "            # generate logits as output from the model\n",
        "            prediction = rnn_model(x)\n",
        "            \n",
        "            # convert logits into one character\n",
        "            index = int(prediction.argmax())\n",
        "            result = index_to_note[index]\n",
        "\n",
        "            # append the new character into the prompt for the next iteration\n",
        "            pattern.append(index)\n",
        "            pattern = pattern[1:]\n",
        "            music = [index_to_note[char] for char in pattern]\n",
        "\n",
        "    # Now, we have music in form or a list of chords and notes and we want to be a midi file.\n",
        "    melody = chords_n_notes(music)\n",
        "    melody_midi = stream.Stream(melody)   \n",
        "    return music, melody_midi\n",
        "\n",
        "\n",
        "# getting the Notes and Melody created by the model\n",
        "music, melody = melody_generator(20)\n",
        "show(melody)\n",
        "\n",
        "# To save the generated melody\n",
        "melody.write('midi','Generated_Melody.mid')"
      ]
    },
    {
      "cell_type": "markdown",
      "source": [
        "# Baseline Model"
      ],
      "metadata": {
        "id": "CRHR30e1VS1N"
      }
    },
    {
      "cell_type": "code",
      "source": [
        "def count_occurence_of_note(notes):\n",
        "    note_occurence_dictionary = {}\n",
        "    for note in unique_notes: \n",
        "        count_note = notes.count(note)\n",
        "        note_occurence_dictionary[note] = count_note\n",
        "    sorted_note_occurence_dictionary = sorted(note_occurence_dictionary.items(), key=lambda x: x[1], reverse=True)\n",
        "    return sorted_note_occurence_dictionary\n",
        "\n",
        "sorted_note_occurence_dictionary = count_occurence_of_note(notes)\n",
        "\n",
        "\n",
        "# Baseline model \n",
        "import math \n",
        "def Baseline_Model(Note_Count):\n",
        "    Notes_Generated=[]\n",
        "    num_repeat = math.floor(Note_Count/10)\n",
        "\n",
        "    for i in range(num_repeat):\n",
        "        for i in range(10):\n",
        "            Notes_Generated.append(sorted_note_occurence_dictionary[i][0])\n",
        "    \n",
        "    Melody = chords_n_notes(Notes_Generated)\n",
        "    Melody_midi = stream.Stream(Melody)   \n",
        "    return Notes_Generated, Melody_midi\n",
        "\n",
        "notes_generated, melody_midi = Baseline_Model(20)\n",
        "show(melody_midi)\n",
        "\n",
        "melody_midi.write('midi','Baseline_Generated_Melody.mid')"
      ],
      "metadata": {
        "id": "SDoJXaOQVSX6",
        "colab": {
          "base_uri": "https://localhost:8080/",
          "height": 155
        },
        "outputId": "926d5597-c7f4-4e7c-9417-ec9e371615a0"
      },
      "execution_count": 29,
      "outputs": [
        {
          "output_type": "display_data",
          "data": {
            "image/png": "[encoded data removed]",
            "text/plain": [
              "<IPython.core.display.Image object>"
            ]
          },
          "metadata": {}
        },
        {
          "output_type": "execute_result",
          "data": {
            "text/plain": [
              "'Baseline_Generated_Melody.mid'"
            ],
            "application/vnd.google.colaboratory.intrinsic+json": {
              "type": "string"
            }
          },
          "metadata": {},
          "execution_count": 29
        }
      ]
    }
  ],
  "metadata": {
    "colab": {
      "provenance": []
    },
    "kernelspec": {
      "display_name": "Python 3",
      "name": "python3"
    },
    "language_info": {
      "name": "python"
    }
  },
  "nbformat": 4,
  "nbformat_minor": 0
}